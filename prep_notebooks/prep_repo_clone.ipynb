{
 "cells": [
  {
   "cell_type": "code",
   "execution_count": 12,
   "metadata": {},
   "outputs": [],
   "source": [
    "def extract_repo_name(repo_url):\n",
    "    # Remove trailing .git if present\n",
    "    if repo_url.endswith('.git'):\n",
    "        repo_url = repo_url[:-4]\n",
    "\n",
    "    # Get the path part of the URL (remove the domain)\n",
    "    path = repo_url.split('github.com/')[-1]\n",
    "\n",
    "    return path"
   ]
  },
  {
   "cell_type": "code",
   "execution_count": null,
   "metadata": {},
   "outputs": [
    {
     "name": "stdout",
     "output_type": "stream",
     "text": [
      "Repository already exists at .\\repos\\hima12-awny/read-csv-dataframe-cpp\n",
      "Pulling latest changes...\n",
      "Repository updated successfully\n"
     ]
    }
   ],
   "source": [
    "import git\n",
    "import os\n",
    "import shutil\n",
    "\n",
    "# The repository URL\n",
    "repo_url = \"https://github.com/hima12-awny/read-csv-dataframe-cpp.git\"\n",
    "\n",
    "repo_name = extract_repo_name(repo_url=repo_url)\n",
    "\n",
    "target_dir = os.path.join(\".\", \"repos\", repo_name)\n",
    "# The target directory\n",
    "\n",
    "# Check if the repository already exists\n",
    "if os.path.exists(target_dir):\n",
    "    print(f\"Repository already exists at {target_dir}\")\n",
    "\n",
    "    # Option 3: Pull the latest changes if it's a git repository\n",
    "    try:\n",
    "        existing_repo = git.Repo(target_dir)\n",
    "        print(f\"Pulling latest changes...\")\n",
    "        existing_repo.remotes.origin.pull()\n",
    "        print(f\"Repository updated successfully\")\n",
    "    except git.InvalidGitRepositoryError:\n",
    "        print(f\"The directory exists but is not a valid git repository\")\n",
    "\n",
    "else:\n",
    "    # Clone the repository\n",
    "    print(f\"Cloning {repo_url} into {target_dir}...\")\n",
    "    repo = git.Repo.clone_from(\n",
    "        repo_url, target_dir, progress=git.RemoteProgress())\n",
    "    print(f\"Repository cloned successfully to {target_dir}\")"
   ]
  },
  {
   "cell_type": "code",
   "execution_count": 1,
   "metadata": {},
   "outputs": [
    {
     "name": "stdout",
     "output_type": "stream",
     "text": [
      "Repository already exists at .\\repos\\hima12-awny/read-csv-dataframe-cpp\n",
      "Pulling latest changes...\n",
      "32aa37edc5a2f93015e8088651f225d6dc997b24\n",
      "Repository updated successfully\n"
     ]
    }
   ],
   "source": [
    "from repo_cloner import RepoCloner\n",
    "\n",
    "repo_url = \"https://github.com/hima12-awny/read-csv-dataframe-cpp.git\"\n",
    "\n",
    "repo_cloner = RepoCloner(repo_url=repo_url)"
   ]
  }
 ],
 "metadata": {
  "kernelspec": {
   "display_name": "Python 3",
   "language": "python",
   "name": "python3"
  },
  "language_info": {
   "codemirror_mode": {
    "name": "ipython",
    "version": 3
   },
   "file_extension": ".py",
   "mimetype": "text/x-python",
   "name": "python",
   "nbconvert_exporter": "python",
   "pygments_lexer": "ipython3",
   "version": "3.11.0"
  }
 },
 "nbformat": 4,
 "nbformat_minor": 2
}
